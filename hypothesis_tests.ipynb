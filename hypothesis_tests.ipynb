{
  "nbformat": 4,
  "nbformat_minor": 0,
  "metadata": {
    "colab": {
      "provenance": [],
      "authorship_tag": "ABX9TyPiXoDUzjMAvGo+DwWzyTyw",
      "include_colab_link": true
    },
    "kernelspec": {
      "name": "python3",
      "display_name": "Python 3"
    },
    "language_info": {
      "name": "python"
    }
  },
  "cells": [
    {
      "cell_type": "markdown",
      "metadata": {
        "id": "view-in-github",
        "colab_type": "text"
      },
      "source": [
        "<a href=\"https://colab.research.google.com/github/yagmurgcm/yagmurgecm/blob/main/hypothesis_tests.ipynb\" target=\"_parent\"><img src=\"https://colab.research.google.com/assets/colab-badge.svg\" alt=\"Open In Colab\"/></a>"
      ]
    },
    {
      "cell_type": "markdown",
      "source": [
        "# This study tests the following hypotheses:\n",
        "\n",
        "**Interest Rate Changes and Search Trends:** Increases or decreases in TCMB’s interest rates correlate with fluctuations in search volumes for \"faiz\" (interest rate) and \"dollar/euro.\"\n",
        "\n",
        "**Inflation and Public Interest:**\n",
        "Rising inflation leads to increased searches for \"enflasyon\" (inflation), as the public seeks more information about its impact on daily life."
      ],
      "metadata": {
        "id": "fo32d0E5f2tR"
      }
    },
    {
      "cell_type": "markdown",
      "source": [
        "# **Interest Rate Changes and Search Trends**"
      ],
      "metadata": {
        "id": "WgNGTAMKlOG6"
      }
    },
    {
      "cell_type": "markdown",
      "source": [
        "Null Hpothesis: There is no correlation between TCMB's interest rates and \"interest rate\" search volume.\n",
        "\n",
        "Alternative Hypotesis: There is a positive correlation between interest rates and \"interest rate\" search volume.\n",
        "\n",
        "If p-value is smaller than 0.05, reject Null Hypothesis.\n",
        "********\n",
        "Null Hpothesis: There is no correlation between TCMB's interest rates and \"interest rate\" search volume.\n",
        "\n",
        "Alternative Hypotesis: There is a positive correlation between interest rates and \"interest rate\" search volume.\n",
        "\n",
        "If p-value is smaller than 0.05, reject Null Hypothesis.\n",
        "*********\n",
        "Null Hpothesis: There is no correlation between TCMB's interest rates and \"interest rate\" search volume.\n",
        "\n",
        "Alternative Hypotesis: There is a positive correlation between interest rates and \"interest rate\" search volume.\n",
        "\n",
        "If p-value is smaller than 0.05, reject Null Hypothesis.\n"
      ],
      "metadata": {
        "id": "BNO32a93iZgr"
      }
    },
    {
      "cell_type": "code",
      "execution_count": 15,
      "metadata": {
        "id": "0qto_Vvrfy_z",
        "colab": {
          "base_uri": "https://localhost:8080/"
        },
        "outputId": "d8ab350c-3376-4247-9378-2a9a1db84a6c"
      },
      "outputs": [
        {
          "output_type": "stream",
          "name": "stdout",
          "text": [
            "Interest vs interest rate = Correlation: 0.623 --- p-value: 0.0\n",
            "Interest vs dolar = Correlation: -0.428 --- p-value: 0.00065\n",
            "Interest vs euro = Correlation: 0.225 --- p-value: 0.08324\n"
          ]
        }
      ],
      "source": [
        "from scipy.stats import spearmanr\n",
        "import pandas as pd\n",
        "\n",
        "#find data\n",
        "path = \"/content/drive/MyDrive/DSA - HW/\"\n",
        "faiz_df = pd.read_csv(path + \"faizTCMB.csv\")\n",
        "faiz_trend_df = pd.read_csv(path + \"faiztrends.csv\", skiprows=1)\n",
        "dolar_df = pd.read_csv(path + \"dolartrends.csv\", skiprows=1)\n",
        "euro_df = pd.read_csv(path + \"eurotrends.csv\", skiprows=1)\n",
        "\n",
        "#group data\n",
        "faiz_trend_df.columns = [\"Week\", \"faiz_trend\"]\n",
        "faiz_trend_df[\"Week\"] = pd.to_datetime(faiz_trend_df[\"Week\"])\n",
        "faiz_trend_df[\"Month\"] = faiz_trend_df[\"Week\"].dt.to_period(\"M\")\n",
        "monthly_faiz_trend = faiz_trend_df.groupby(\"Month\")[\"faiz_trend\"].mean().reset_index()\n",
        "\n",
        "dolar_df.columns = [\"Week\", \"dolar_trend\"]\n",
        "euro_df.columns = [\"Week\", \"euro_trend\"]\n",
        "for df in [dolar_df, euro_df]:\n",
        "    df[\"Week\"] = pd.to_datetime(df[\"Week\"])\n",
        "    df[\"Month\"] = df[\"Week\"].dt.to_period(\"M\")\n",
        "monthly_dolar_trend = dolar_df.groupby(\"Month\")[\"dolar_trend\"].mean().reset_index()\n",
        "monthly_euro_trend = euro_df.groupby(\"Month\")[\"euro_trend\"].mean().reset_index()\n",
        "\n",
        "faiz_df[\"Date\"] = pd.to_datetime(faiz_df[\"Date\"])\n",
        "faiz_df[\"Month\"] = faiz_df[\"Date\"].dt.to_period(\"M\")\n",
        "monthly_faiz = faiz_df[[\"Month\", \"Interest\"]]\n",
        "\n",
        "merged = monthly_faiz.merge(monthly_faiz_trend, on=\"Month\")\n",
        "merged = merged.merge(monthly_dolar_trend, on=\"Month\")\n",
        "merged = merged.merge(monthly_euro_trend, on=\"Month\")\n",
        "\n",
        "# Correlation analysis\n",
        "faiz_corr = spearmanr(merged[\"Interest\"], merged[\"faiz_trend\"])\n",
        "dolar_corr = spearmanr(merged[\"Interest\"], merged[\"dolar_trend\"])\n",
        "euro_corr = spearmanr(merged[\"Interest\"], merged[\"euro_trend\"])\n",
        "\n",
        "#Print\n",
        "print(\"Interest vs interest rate = Correlation:\", round(faiz_corr.correlation, 3), \"--- p-value:\", round(faiz_corr.pvalue, 5))\n",
        "print(\"Interest vs dolar = Correlation:\", round(dolar_corr.correlation, 3), \"--- p-value:\", round(dolar_corr.pvalue, 5))\n",
        "print(\"Interest vs euro = Correlation:\", round(euro_corr.correlation, 3), \"--- p-value:\", round(euro_corr.pvalue, 5))\n"
      ]
    },
    {
      "cell_type": "markdown",
      "source": [
        "**Interest vs interest rate:** There is a strong positive and statistically significant correlation between TCMB interest rates and searches for \"faiz\" (correlation = 0.623, p-value < 0.005), suggesting that as interest rates rise, public interest in the topic increases.\n",
        "\n",
        "**Interest vs dolar:** A moderate negative and significant correlation is observed between interest rates and searches for \"dolar\" (correlation = –0.428, p-value ≈ 0.00065), indicating that higher rates may reduce public attention toward the dollar.\n",
        "\n",
        "**Interest vs euro:** Correlation between interest rates and \"euro\" searches is weak and not statistically significant (correlation = 0.225, p-value ≈ 0.083), implying no strong or reliable relationship."
      ],
      "metadata": {
        "id": "gag-4QXPiS7V"
      }
    },
    {
      "cell_type": "markdown",
      "source": [
        "# **Inflation and Public Interest**"
      ],
      "metadata": {
        "id": "kPOOVoNflRRe"
      }
    },
    {
      "cell_type": "markdown",
      "source": [
        "Null Hpothesis: There is no correlation between TCMB's inflation rates and \"inflation\" search volume.\n",
        "\n",
        "Alternative Hypotesis: There is a positive correlation between inflation rates and \"inflation\" search volume.\n",
        "\n",
        "If p-value is smaller than 0.05, reject Null Hypothesis."
      ],
      "metadata": {
        "id": "ZrGc4RuPkVBg"
      }
    },
    {
      "cell_type": "code",
      "source": [
        "import pandas as pd\n",
        "from scipy.stats import spearmanr\n",
        "\n",
        "#find data\n",
        "path = \"/content/drive/MyDrive/DSA - HW/\"\n",
        "inflation_df = pd.read_csv(path + \"inflationTCMB.csv\")\n",
        "inflation_trend_df = pd.read_csv(path + \"enflasyontrends.csv\", skiprows=1)\n",
        "\n",
        "#process data\n",
        "inflation_trend_df.columns = [\"Week\", \"enflasyon_trend\"]\n",
        "inflation_trend_df[\"Week\"] = pd.to_datetime(inflation_trend_df[\"Week\"])\n",
        "inflation_trend_df[\"Month\"] = inflation_trend_df[\"Week\"].dt.to_period(\"M\")\n",
        "monthly_trend = inflation_trend_df.groupby(\"Month\")[\"enflasyon_trend\"].mean().reset_index()\n",
        "\n",
        "#inflation data process\n",
        "inflation_df[\"Date\"] = pd.to_datetime(inflation_df[\"Date\"])\n",
        "inflation_df[\"Month\"] = inflation_df[\"Date\"].dt.to_period(\"M\")\n",
        "monthly_rate = inflation_df[[\"Month\", \"Annual Change (%)\"]]\n",
        "\n",
        "#merge them\n",
        "merged = monthly_rate.merge(monthly_trend, on=\"Month\", how=\"inner\")\n",
        "merged_cleaned = merged.dropna()\n",
        "\n",
        "#Correlation test\n",
        "result = spearmanr(merged_cleaned[\"Annual Change (%)\"], merged_cleaned[\"enflasyon_trend\"])\n",
        "\n",
        "print(\"Inflation vs 'inflation'  = Correlation:\", round(result.correlation, 3),\n",
        "      \"--- p-value:\", format(result.pvalue, \".2e\"))\n"
      ],
      "metadata": {
        "colab": {
          "base_uri": "https://localhost:8080/"
        },
        "id": "lKdAnH2ykVN-",
        "outputId": "57f9be7c-bdd5-4299-d4ef-f363d15b018d"
      },
      "execution_count": 14,
      "outputs": [
        {
          "output_type": "stream",
          "name": "stdout",
          "text": [
            "Inflation vs 'inflation'  = Correlation: 0.674 --- p-value: 3.47e-09\n"
          ]
        }
      ]
    },
    {
      "cell_type": "markdown",
      "source": [
        "There is a strong positive and statistically significant correlation between inflation rate and \"enflasyon\" search trends — meaning that as inflation rises, public interest in the topic also increases."
      ],
      "metadata": {
        "id": "yq-2oNOolYQ4"
      }
    }
  ]
}