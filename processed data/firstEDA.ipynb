{
  "nbformat": 4,
  "nbformat_minor": 0,
  "metadata": {
    "colab": {
      "provenance": []
    },
    "kernelspec": {
      "name": "python3",
      "display_name": "Python 3"
    },
    "language_info": {
      "name": "python"
    }
  },
  "cells": [
    {
      "cell_type": "markdown",
      "source": [
        "# **Important Note**\n",
        "The aim of this file is changing the csv files, since in the Google Trends data that I download the data was categorized based on weeks. However the data I am going to use in my project uses months(TCMB inflation and interest rates data). So, in this document I will calculate mean for each month and I will use this data set in my project."
      ],
      "metadata": {
        "id": "yLlkyd529RvD"
      }
    },
    {
      "cell_type": "code",
      "execution_count": 1,
      "metadata": {
        "colab": {
          "base_uri": "https://localhost:8080/"
        },
        "id": "odiimSTl9Q3K",
        "outputId": "84a4a484-6c5d-4782-a7bc-1bef58db7e05"
      },
      "outputs": [
        {
          "output_type": "stream",
          "name": "stdout",
          "text": [
            "Mounted at /content/drive\n"
          ]
        }
      ],
      "source": [
        "import pandas as pd\n",
        "import os\n",
        "\n",
        "from google.colab import drive\n",
        "drive.mount('/content/drive')\n",
        "\n",
        "data_path = \"/content/drive/MyDrive/dsa210/\"\n",
        "\n",
        "#function that calculates mean\n",
        "def process_trend_file(fname, new_col):\n",
        "    df = pd.read_csv(os.path.join(data_path, fname), skiprows=1)\n",
        "    df.columns = [\"Week\", new_col]\n",
        "    df[\"Week\"] = pd.to_datetime(df[\"Week\"])\n",
        "    df[\"Month\"] = df[\"Week\"].dt.to_period(\"M\")\n",
        "    monthly_df = df.groupby(\"Month\")[new_col].mean().reset_index()\n",
        "    monthly_df[\"Month\"] = monthly_df[\"Month\"].dt.to_timestamp()\n",
        "    return monthly_df\n",
        "\n",
        "#calculates mean for each csv\n",
        "monthly_faiz = process_trend_file(\"faiztrends.csv\", \"faiz_trend\")\n",
        "monthly_dolar = process_trend_file(\"dolartrends.csv\", \"dolar_trend\")\n",
        "monthly_euro = process_trend_file(\"eurotrends.csv\", \"euro_trend\")\n",
        "monthly_enflasyon = process_trend_file(\"enflasyontrends.csv\", \"enflasyon_trend\")\n",
        "\n",
        "#submit, download\n",
        "monthly_faiz.to_csv(os.path.join(data_path, \"monthly_faiz.csv\"), index=False)\n",
        "monthly_dolar.to_csv(os.path.join(data_path, \"monthly_dolar.csv\"), index=False)\n",
        "monthly_euro.to_csv(os.path.join(data_path, \"monthly_euro.csv\"), index=False)\n",
        "monthly_enflasyon.to_csv(os.path.join(data_path, \"monthly_enflasyon.csv\"), index=False)\n"
      ]
    }
  ]
}